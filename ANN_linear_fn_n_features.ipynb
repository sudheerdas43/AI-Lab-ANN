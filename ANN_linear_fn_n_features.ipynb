{
  "nbformat": 4,
  "nbformat_minor": 0,
  "metadata": {
    "colab": {
      "provenance": [],
      "authorship_tag": "ABX9TyNTnvHRYstK9Fr/bC7PX4iO",
      "include_colab_link": true
    },
    "kernelspec": {
      "name": "python3",
      "display_name": "Python 3"
    },
    "language_info": {
      "name": "python"
    }
  },
  "cells": [
    {
      "cell_type": "markdown",
      "metadata": {
        "id": "view-in-github",
        "colab_type": "text"
      },
      "source": [
        "<a href=\"https://colab.research.google.com/github/sudheerdas43/AI-Lab-ANN/blob/main/ANN_linear_fn_n_features.ipynb\" target=\"_parent\"><img src=\"https://colab.research.google.com/assets/colab-badge.svg\" alt=\"Open In Colab\"/></a>"
      ]
    },
    {
      "cell_type": "code",
      "execution_count": 1,
      "metadata": {
        "colab": {
          "base_uri": "https://localhost:8080/"
        },
        "id": "kZwY2nGSuzv2",
        "outputId": "90cd0ffe-3969-4cdc-8d47-8fa32f7cb49c"
      },
      "outputs": [
        {
          "output_type": "stream",
          "name": "stdout",
          "text": [
            "\n",
            "Running Perceptron with 4 features:\n",
            "True weights: [-0.7559 -0.0096 -0.9312  0.8186]\n",
            "True bias: 5.0\n",
            "Learned weights: [-0.9586  0.0659 -1.0093  0.3256]\n",
            "Learned bias: 3.238\n",
            "Mean Squared Error: 3.160769\n",
            "\n",
            "Running Perceptron with 5 features:\n",
            "True weights: [-0.7842 -0.9371  0.2728 -0.3713  0.0171]\n",
            "True bias: 5.0\n",
            "Learned weights: [ 0.4476  0.1369  0.005   0.6654 -0.8338]\n",
            "Learned bias: 2.6769\n",
            "Mean Squared Error: 4.644543\n"
          ]
        }
      ],
      "source": [
        "import numpy as np\n",
        "\n",
        "class Perceptron:\n",
        "    def __init__(self, n_features, learning_rate=0.01, epochs=100):\n",
        "        self.n_features = n_features\n",
        "        self.learning_rate = learning_rate\n",
        "        self.epochs = epochs\n",
        "        # Initialize weights and bias randomly in [-1, 1]\n",
        "        self.weights = np.random.uniform(-1, 1, n_features)\n",
        "        self.bias = np.random.uniform(-1, 1)\n",
        "\n",
        "    def predict(self, X):\n",
        "        # Linear function: y = w1*x1 + w2*x2 + ... + wn*xn + b\n",
        "        return np.dot(X, self.weights) + self.bias\n",
        "\n",
        "    def train(self, X, y):\n",
        "        for epoch in range(self.epochs):\n",
        "            # Forward pass\n",
        "            y_pred = self.predict(X)\n",
        "            # Compute error\n",
        "            errors = y_pred - y\n",
        "            # Update weights and bias\n",
        "            self.weights -= self.learning_rate * np.dot(errors, X) / len(X)\n",
        "            self.bias -= self.learning_rate * np.mean(errors)\n",
        "        # Calculate mean squared error\n",
        "        mse = np.mean((y_pred - y) ** 2)\n",
        "        return mse\n",
        "\n",
        "    def get_params(self):\n",
        "        return self.weights, self.bias\n",
        "\n",
        "def generate_dataset(n_features, n_samples=10, target_bias=5):\n",
        "    # Generate random inputs in [-1, 1]\n",
        "    X = np.random.uniform(-1, 1, (n_samples, n_features))\n",
        "    # Generate random target weights in [-1, 1]\n",
        "    true_weights = np.random.uniform(-1, 1, n_features)\n",
        "    # Compute target outputs: y = w1*x1 + ... + wn*xn + b\n",
        "    y = np.dot(X, true_weights) + target_bias\n",
        "    return X, y, true_weights\n",
        "\n",
        "def run_perceptron(n_features):\n",
        "    print(f\"\\nRunning Perceptron with {n_features} features:\")\n",
        "    # Generate dataset\n",
        "    X, y, true_weights = generate_dataset(n_features)\n",
        "    print(f\"True weights: {np.round(true_weights, 4)}\")\n",
        "    print(f\"True bias: 5.0\")\n",
        "\n",
        "    # Initialize and train perceptron\n",
        "    perceptron = Perceptron(n_features=n_features, learning_rate=0.01, epochs=100)\n",
        "    mse = perceptron.train(X, y)\n",
        "    learned_weights, learned_bias = perceptron.get_params()\n",
        "\n",
        "    # Print results\n",
        "    print(f\"Learned weights: {np.round(learned_weights, 4)}\")\n",
        "    print(f\"Learned bias: {np.round(learned_bias, 4)}\")\n",
        "    print(f\"Mean Squared Error: {np.round(mse, 6)}\")\n",
        "\n",
        "# Test with n=4 and n=5\n",
        "if __name__ == \"__main__\":\n",
        "    np.random.seed(42)  # For reproducibility\n",
        "    run_perceptron(n_features=4)\n",
        "    run_perceptron(n_features=5)"
      ]
    }
  ]
}
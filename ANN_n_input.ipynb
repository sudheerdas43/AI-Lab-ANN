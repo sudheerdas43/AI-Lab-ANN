{
  "nbformat": 4,
  "nbformat_minor": 0,
  "metadata": {
    "colab": {
      "provenance": [],
      "authorship_tag": "ABX9TyPrl6TMSJxhhTWbtShkntvt",
      "include_colab_link": true
    },
    "kernelspec": {
      "name": "python3",
      "display_name": "Python 3"
    },
    "language_info": {
      "name": "python"
    }
  },
  "cells": [
    {
      "cell_type": "markdown",
      "metadata": {
        "id": "view-in-github",
        "colab_type": "text"
      },
      "source": [
        "<a href=\"https://colab.research.google.com/github/sudheerdas43/AI-Lab-ANN/blob/main/ANN_n_input.ipynb\" target=\"_parent\"><img src=\"https://colab.research.google.com/assets/colab-badge.svg\" alt=\"Open In Colab\"/></a>"
      ]
    },
    {
      "cell_type": "code",
      "execution_count": 1,
      "metadata": {
        "colab": {
          "base_uri": "https://localhost:8080/"
        },
        "id": "boeVm130tDLW",
        "outputId": "0372847e-dc49-4f8b-ca76-e1cf6dc5f6b7"
      },
      "outputs": [
        {
          "output_type": "stream",
          "name": "stdout",
          "text": [
            "\n",
            "Training 3-input AND Gate\n",
            "Initial weights: [0.5720068  0.75222573 0.04032215], Initial bias: 0.0393\n",
            "Converged after 6 epochs\n",
            "Final Weights: [0.2720068  0.35222573 0.04032215], Final Bias: -0.6607\n",
            "Final Accuracy: 100.00%\n",
            "\n",
            "Training 3-input OR Gate\n",
            "Initial weights: [0.64327986 0.04300974 0.32196146], Initial bias: 0.2554\n",
            "Converged after 5 epochs\n",
            "Final Weights: [0.64327986 0.14300974 0.32196146], Final Bias: -0.0446\n",
            "Final Accuracy: 100.00%\n",
            "\n",
            "Training 4-input AND Gate\n",
            "Initial weights: [0.67095904 0.51612657 0.70161506 0.11033586], Initial bias: 0.3288\n",
            "Converged after 13 epochs\n",
            "Final Weights: [0.37095904 0.31612657 0.20161506 0.11033586], Final Bias: -0.9712\n",
            "Final Accuracy: 100.00%\n",
            "\n",
            "Training 4-input OR Gate\n",
            "Initial weights: [0.25551759 0.21684814 0.0663116  0.16247208], Initial bias: 0.0381\n",
            "Converged after 2 epochs\n",
            "Final Weights: [0.25551759 0.21684814 0.0663116  0.16247208], Final Bias: -0.0619\n",
            "Final Accuracy: 100.00%\n"
          ]
        }
      ],
      "source": [
        "import numpy as np\n",
        "from itertools import product\n",
        "\n",
        "class Perceptron:\n",
        "    def __init__(self, learning_rate=0.1, n_epochs=100):\n",
        "        self.learning_rate = learning_rate\n",
        "        self.n_epochs = n_epochs\n",
        "        self.weights = None\n",
        "        self.bias = None\n",
        "\n",
        "    def step_function(self, x):\n",
        "        return 1 if x >= 0 else 0\n",
        "\n",
        "    def predict(self, X):\n",
        "        weighted_sum = np.dot(X, self.weights) + self.bias\n",
        "        return np.array([self.step_function(x) for x in weighted_sum])\n",
        "\n",
        "    def train(self, X, y, gate_name, n_inputs):\n",
        "        n_samples, n_features = X.shape\n",
        "        self.weights = np.random.rand(n_features)\n",
        "        self.bias = np.random.rand()\n",
        "\n",
        "        print(f\"\\nTraining {n_inputs}-input {gate_name} Gate\")\n",
        "        print(f\"Initial weights: {self.weights}, Initial bias: {self.bias:.4f}\")\n",
        "\n",
        "        for epoch in range(self.n_epochs):\n",
        "            error_count = 0\n",
        "            for i in range(n_samples):\n",
        "                weighted_sum = np.dot(X[i], self.weights) + self.bias\n",
        "                prediction = self.step_function(weighted_sum)\n",
        "                error = y[i] - prediction\n",
        "\n",
        "                if error != 0:\n",
        "                    error_count += 1\n",
        "                    self.weights += self.learning_rate * error * X[i]\n",
        "                    self.bias += self.learning_rate * error\n",
        "\n",
        "            if error_count == 0:\n",
        "                print(f\"Converged after {epoch + 1} epochs\")\n",
        "                break\n",
        "\n",
        "        # Calculate and display accuracy\n",
        "        predictions = self.predict(X)\n",
        "        accuracy = np.mean(predictions == y) * 100\n",
        "        print(f\"Final Weights: {self.weights}, Final Bias: {self.bias:.4f}\")\n",
        "        print(f\"Final Accuracy: {accuracy:.2f}%\")\n",
        "\n",
        "def generate_truth_table(n_inputs, gate_type):\n",
        "    X = np.array(list(product([0, 1], repeat=n_inputs)))\n",
        "    if gate_type == \"AND\":\n",
        "        y = np.array([1 if np.all(x) else 0 for x in X])\n",
        "    elif gate_type == \"OR\":\n",
        "        y = np.array([1 if np.any(x) else 0 for x in X])\n",
        "    return X, y\n",
        "\n",
        "# Test for n=3 and n=4\n",
        "for n_inputs in [3, 4]:\n",
        "    # Generate truth tables\n",
        "    X_and, y_and = generate_truth_table(n_inputs, \"AND\")\n",
        "    X_or, y_or = generate_truth_table(n_inputs, \"OR\")\n",
        "\n",
        "    # Train Perceptron for AND gate\n",
        "    and_perceptron = Perceptron(learning_rate=0.1, n_epochs=100)\n",
        "    and_perceptron.train(X_and, y_and, \"AND\", n_inputs)\n",
        "\n",
        "    # Train Perceptron for OR gate\n",
        "    or_perceptron = Perceptron(learning_rate=0.1, n_epochs=100)\n",
        "    or_perceptron.train(X_or, y_or, \"OR\", n_inputs)"
      ]
    }
  ]
}
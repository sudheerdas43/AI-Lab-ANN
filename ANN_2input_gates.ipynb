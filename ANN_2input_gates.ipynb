{
  "nbformat": 4,
  "nbformat_minor": 0,
  "metadata": {
    "colab": {
      "provenance": [],
      "authorship_tag": "ABX9TyOubHZpvGbY514avknqxp5i",
      "include_colab_link": true
    },
    "kernelspec": {
      "name": "python3",
      "display_name": "Python 3"
    },
    "language_info": {
      "name": "python"
    }
  },
  "cells": [
    {
      "cell_type": "markdown",
      "metadata": {
        "id": "view-in-github",
        "colab_type": "text"
      },
      "source": [
        "<a href=\"https://colab.research.google.com/github/sudheerdas43/AI-Lab-ANN/blob/main/ANN_2input_gates.ipynb\" target=\"_parent\"><img src=\"https://colab.research.google.com/assets/colab-badge.svg\" alt=\"Open In Colab\"/></a>"
      ]
    },
    {
      "cell_type": "code",
      "execution_count": 1,
      "metadata": {
        "colab": {
          "base_uri": "https://localhost:8080/"
        },
        "id": "OJoNTaqosjt_",
        "outputId": "b02d3a9d-284e-4211-cf3b-abb3ebd27b22"
      },
      "outputs": [
        {
          "output_type": "stream",
          "name": "stdout",
          "text": [
            "\n",
            "Training AND Gate\n",
            "Initial weights: [0.77484367 0.68890791], Initial bias: 0.3989\n",
            "Epoch 1: Weights: [0.67484367 0.58890791], Bias: 0.0989, Errors: 3\n",
            "Epoch 2: Weights: [0.57484367 0.48890791], Bias: -0.2011, Errors: 3\n",
            "Epoch 3: Weights: [0.47484367 0.38890791], Bias: -0.4011, Errors: 2\n",
            "Epoch 4: Weights: [0.37484367 0.38890791], Bias: -0.5011, Errors: 1\n",
            "Epoch 5: Weights: [0.37484367 0.38890791], Bias: -0.5011, Errors: 0\n",
            "Converged after 5 epochs\n",
            "Final Accuracy: 100.00%\n",
            "Final Weights: [0.37484367 0.38890791], Final Bias: -0.5011\n",
            "\n",
            "Training OR Gate\n",
            "Initial weights: [0.25648725 0.77417422], Initial bias: 0.5752\n",
            "Epoch 1: Weights: [0.25648725 0.77417422], Bias: 0.4752, Errors: 1\n",
            "Epoch 2: Weights: [0.25648725 0.77417422], Bias: 0.3752, Errors: 1\n",
            "Epoch 3: Weights: [0.25648725 0.77417422], Bias: 0.2752, Errors: 1\n",
            "Epoch 4: Weights: [0.25648725 0.77417422], Bias: 0.1752, Errors: 1\n",
            "Epoch 5: Weights: [0.25648725 0.77417422], Bias: 0.0752, Errors: 1\n",
            "Epoch 6: Weights: [0.25648725 0.77417422], Bias: -0.0248, Errors: 1\n",
            "Epoch 7: Weights: [0.25648725 0.77417422], Bias: -0.0248, Errors: 0\n",
            "Converged after 7 epochs\n",
            "Final Accuracy: 100.00%\n",
            "Final Weights: [0.25648725 0.77417422], Final Bias: -0.0248\n"
          ]
        }
      ],
      "source": [
        "import numpy as np\n",
        "\n",
        "class Perceptron:\n",
        "    def __init__(self, learning_rate=0.1, n_epochs=100):\n",
        "        self.learning_rate = learning_rate\n",
        "        self.n_epochs = n_epochs\n",
        "        self.weights = None\n",
        "        self.bias = None\n",
        "\n",
        "    def step_function(self, x):\n",
        "        return 1 if x >= 0 else 0\n",
        "\n",
        "    def predict(self, X):\n",
        "        weighted_sum = np.dot(X, self.weights) + self.bias\n",
        "        return np.array([self.step_function(x) for x in weighted_sum])\n",
        "\n",
        "    def train(self, X, y, gate_name):\n",
        "        n_samples, n_features = X.shape\n",
        "        self.weights = np.random.rand(n_features)\n",
        "        self.bias = np.random.rand()\n",
        "\n",
        "        print(f\"\\nTraining {gate_name} Gate\")\n",
        "        print(f\"Initial weights: {self.weights}, Initial bias: {self.bias:.4f}\")\n",
        "\n",
        "        for epoch in range(self.n_epochs):\n",
        "            error_count = 0\n",
        "            for i in range(n_samples):\n",
        "                weighted_sum = np.dot(X[i], self.weights) + self.bias\n",
        "                prediction = self.step_function(weighted_sum)\n",
        "                error = y[i] - prediction\n",
        "\n",
        "                if error != 0:\n",
        "                    error_count += 1\n",
        "                    self.weights += self.learning_rate * error * X[i]\n",
        "                    self.bias += self.learning_rate * error\n",
        "\n",
        "            print(f\"Epoch {epoch + 1}: Weights: {self.weights}, Bias: {self.bias:.4f}, Errors: {error_count}\")\n",
        "\n",
        "            if error_count == 0:\n",
        "                print(f\"Converged after {epoch + 1} epochs\")\n",
        "                break\n",
        "\n",
        "        # Calculate and display accuracy\n",
        "        predictions = self.predict(X)\n",
        "        accuracy = np.mean(predictions == y) * 100\n",
        "        print(f\"Final Accuracy: {accuracy:.2f}%\")\n",
        "        print(f\"Final Weights: {self.weights}, Final Bias: {self.bias:.4f}\")\n",
        "\n",
        "# Data for AND and OR gates\n",
        "X = np.array([[0, 0], [0, 1], [1, 0], [1, 1]])\n",
        "y_and = np.array([0, 0, 0, 1])\n",
        "y_or = np.array([0, 1, 1, 1])\n",
        "\n",
        "# Train Perceptron for AND gate\n",
        "and_perceptron = Perceptron(learning_rate=0.1, n_epochs=100)\n",
        "and_perceptron.train(X, y_and, \"AND\")\n",
        "\n",
        "# Train Perceptron for OR gate\n",
        "or_perceptron = Perceptron(learning_rate=0.1, n_epochs=100)\n",
        "or_perceptron.train(X, y_or, \"OR\")"
      ]
    }
  ]
}